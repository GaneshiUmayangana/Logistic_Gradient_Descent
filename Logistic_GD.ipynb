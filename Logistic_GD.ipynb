{
  "cells": [
    {
      "cell_type": "markdown",
      "metadata": {
        "id": "view-in-github",
        "colab_type": "text"
      },
      "source": [
        "<a href=\"https://colab.research.google.com/github/GaneshiUmayangana/Logistic_Gradient_Descent/blob/main/Logistic_GD.ipynb\" target=\"_parent\"><img src=\"https://colab.research.google.com/assets/colab-badge.svg\" alt=\"Open In Colab\"/></a>"
      ]
    },
    {
      "cell_type": "code",
      "execution_count": 1,
      "id": "17d98d9b-037f-44d5-be86-3709fb8b2227",
      "metadata": {
        "id": "17d98d9b-037f-44d5-be86-3709fb8b2227"
      },
      "outputs": [],
      "source": [
        "import numpy as np\n",
        "import pandas as pd"
      ]
    },
    {
      "cell_type": "code",
      "execution_count": 2,
      "id": "f6e39a7d-d5b8-4f20-a4d8-9e6378da1f59",
      "metadata": {
        "id": "f6e39a7d-d5b8-4f20-a4d8-9e6378da1f59"
      },
      "outputs": [],
      "source": [
        "# Simulate a dataset\n",
        "np.random.seed(0)\n",
        "n_samples = 100\n",
        "X = np.random.randn(n_samples, 1)  # One independent variable\n",
        "Y = (X[:, 0] > 0).astype(int).reshape(-1, 1)  # Generate labels: 1 if X > 0, else 0\n"
      ]
    },
    {
      "cell_type": "code",
      "execution_count": 3,
      "id": "871f7d98-bb73-4bdc-a827-57c48725d2c3",
      "metadata": {
        "id": "871f7d98-bb73-4bdc-a827-57c48725d2c3"
      },
      "outputs": [],
      "source": [
        "# Sigmoid function\n",
        "def sigmoid(z):\n",
        "    return 1 / (1 + np.exp(-z))"
      ]
    },
    {
      "cell_type": "code",
      "execution_count": 4,
      "id": "2740ec42-b3c0-4d22-b832-d599f05d0bb7",
      "metadata": {
        "id": "2740ec42-b3c0-4d22-b832-d599f05d0bb7"
      },
      "outputs": [],
      "source": [
        "# Binary cross-entropy loss\n",
        "def compute_loss(y, y_pred):\n",
        "    m = len(y)\n",
        "    return -1/m * np.sum(y * np.log(y_pred) + (1 - y) * np.log(1 - y_pred))\n"
      ]
    },
    {
      "cell_type": "code",
      "execution_count": 5,
      "id": "dbe3b3ae-3b2c-4067-8f5b-79c58159709e",
      "metadata": {
        "id": "dbe3b3ae-3b2c-4067-8f5b-79c58159709e"
      },
      "outputs": [],
      "source": [
        "# Gradient descent algorithm\n",
        "def gradient_descent(X, Y, learning_rate, num_iterations):\n",
        "    m, n = X.shape\n",
        "    W = np.zeros((n, 1))\n",
        "    B = 0  # Initialize bias\n",
        "    losses = []  # To store loss at each iteration\n",
        "\n",
        "    for i in range(num_iterations):\n",
        "        # Compute the linear combination of inputs and weights\n",
        "        z = np.dot(X, W) + B\n",
        "        # Apply the sigmoid function to get predictions\n",
        "        h = sigmoid(z)\n",
        "\n",
        "        # Compute the gradient\n",
        "        dW = (1/m) * np.dot(X.T, (h - Y))\n",
        "        dB = (1/m) * np.sum(h - Y)\n",
        "\n",
        "        # Update the parameters\n",
        "        W -= learning_rate * dW\n",
        "        B -= learning_rate * dB\n",
        "\n",
        "        # Compute the loss\n",
        "        loss = compute_loss(Y, h)\n",
        "        losses.append(loss)\n",
        "\n",
        "        if i % (num_iterations // 10) == 0:\n",
        "            print(f\"Cost after iteration {i}: {loss}\")\n",
        "\n",
        "    return W, B, losses"
      ]
    },
    {
      "cell_type": "code",
      "execution_count": 6,
      "id": "53e71283-8626-4a4c-9605-44b9d35dbb97",
      "metadata": {
        "id": "53e71283-8626-4a4c-9605-44b9d35dbb97"
      },
      "outputs": [],
      "source": [
        "# Parameters\n",
        "learning_rate = 0.0015\n",
        "num_iterations = 100000"
      ]
    },
    {
      "cell_type": "code",
      "execution_count": 7,
      "id": "af1c73b2-a1ee-4e69-b6e6-09ced600e280",
      "metadata": {
        "colab": {
          "base_uri": "https://localhost:8080/"
        },
        "id": "af1c73b2-a1ee-4e69-b6e6-09ced600e280",
        "outputId": "a1a5ca6e-e5c8-4022-c7d6-43ae4eb7693f"
      },
      "outputs": [
        {
          "output_type": "stream",
          "name": "stdout",
          "text": [
            "Cost after iteration 0: 0.6931471805599453\n",
            "Cost after iteration 10000: 0.23805932640967445\n",
            "Cost after iteration 20000: 0.18230265901003265\n",
            "Cost after iteration 30000: 0.15569469262297733\n",
            "Cost after iteration 40000: 0.1390429794079859\n",
            "Cost after iteration 50000: 0.12725867321217516\n",
            "Cost after iteration 60000: 0.118306600436687\n",
            "Cost after iteration 70000: 0.11118409556867656\n",
            "Cost after iteration 80000: 0.10532918967841225\n",
            "Cost after iteration 90000: 0.10039784318100342\n"
          ]
        }
      ],
      "source": [
        "# Run gradient descent\n",
        "W, B, losses = gradient_descent(X, Y, learning_rate, num_iterations)\n"
      ]
    },
    {
      "cell_type": "code",
      "execution_count": 8,
      "id": "7fa94c42-ba81-4400-8c93-9258849d9620",
      "metadata": {
        "colab": {
          "base_uri": "https://localhost:8080/"
        },
        "id": "7fa94c42-ba81-4400-8c93-9258849d9620",
        "outputId": "159b142e-949d-41dd-c309-f693c2cf40f8"
      },
      "outputs": [
        {
          "output_type": "stream",
          "name": "stdout",
          "text": [
            "Estimated parameters (weights): [[6.27544112]]\n",
            "Estimated bias: 0.4090257157784096\n"
          ]
        }
      ],
      "source": [
        "# Results\n",
        "print(\"Estimated parameters (weights):\", W)\n",
        "print(\"Estimated bias:\", B)\n"
      ]
    },
    {
      "cell_type": "code",
      "execution_count": 9,
      "id": "414f0cfd-e0cf-4c60-ba25-2f7a571b3a23",
      "metadata": {
        "colab": {
          "base_uri": "https://localhost:8080/",
          "height": 492
        },
        "id": "414f0cfd-e0cf-4c60-ba25-2f7a571b3a23",
        "outputId": "9a01bac9-55c0-40a8-cebf-5ac2dd9fc1a8"
      },
      "outputs": [
        {
          "output_type": "display_data",
          "data": {
            "text/plain": [
              "<Figure size 640x480 with 1 Axes>"
            ],
            "image/png": "[encoded data removed]"
          },
          "metadata": {}
        }
      ],
      "source": [
        "# Plot the loss over iterations\n",
        "import matplotlib.pyplot as plt\n",
        "\n",
        "plt.plot(range(num_iterations), losses)\n",
        "plt.xlabel('Iterations')\n",
        "plt.ylabel('Loss')\n",
        "plt.title('Loss over Iterations')\n",
        "plt.show()"
      ]
    },
    {
      "cell_type": "code",
      "execution_count": null,
      "id": "d74d51ed-d516-4a26-8dea-e170b9e2b82a",
      "metadata": {
        "id": "d74d51ed-d516-4a26-8dea-e170b9e2b82a"
      },
      "outputs": [],
      "source": []
    }
  ],
  "metadata": {
    "kernelspec": {
      "display_name": "Python 3 (ipykernel)",
      "language": "python",
      "name": "python3"
    },
    "language_info": {
      "codemirror_mode": {
        "name": "ipython",
        "version": 3
      },
      "file_extension": ".py",
      "mimetype": "text/x-python",
      "name": "python",
      "nbconvert_exporter": "python",
      "pygments_lexer": "ipython3",
      "version": "3.10.1"
    },
    "colab": {
      "provenance": [],
      "include_colab_link": true
    }
  },
  "nbformat": 4,
  "nbformat_minor": 5
}